{
 "cells": [
  {
   "cell_type": "markdown",
   "metadata": {},
   "source": [
    "## pyltp  LTP提供了一系列中文自然语言处理工具，用户可以使用这些工具对于中文文本进行分词、词性标注、句法分析等等工作。从应用角度来看，LTP为用户提供了下列组件："
   ]
  },
  {
   "cell_type": "code",
   "execution_count": 26,
   "metadata": {
    "collapsed": false
   },
   "outputs": [
    {
     "name": "stdout",
     "output_type": "stream",
     "text": [
      "<class 'pyltp.VectorOfString'>\n",
      "亚硝酸盐\t是\t一\t种\t化学\t物质\n"
     ]
    }
   ],
   "source": [
    "import os\n",
    "from pyltp import Segmentor\n",
    "LTP_DATA_DIR='C:/Users/Administrator/Downloads/ltp_data_v3.4.0/'\n",
    "cws_model_path=os.path.join(LTP_DATA_DIR,'cws.model')\n",
    "segmentor=Segmentor()\n",
    "segmentor.load(cws_model_path)\n",
    "words=segmentor.segment('亚硝酸盐是一种化学物质')\n",
    "print(type(words))\n",
    "print('\\t'.join(words))\n",
    "\n",
    "segmentor.release()"
   ]
  },
  {
   "cell_type": "code",
   "execution_count": 32,
   "metadata": {
    "collapsed": false
   },
   "outputs": [
    {
     "name": "stdout",
     "output_type": "stream",
     "text": [
      "亚硝酸盐\t是\t一\t种\t化学物质\n"
     ]
    }
   ],
   "source": [
    "import os\n",
    "## 分词 使用自定义词典\n",
    "LTP_DATA_DIR = 'C:/Users/Administrator/Downloads/ltp_data_v3.4.0/'\n",
    "from pyltp import Segmentor\n",
    "cws_model_path = os.path.join(LTP_DATA_DIR, 'cws.model')\n",
    "segmentor = Segmentor()  # 初始化实例\n",
    "segmentor.load_with_lexicon(cws_model_path, 'lexicon') # 加载模型，第二个参数是您的外部词典文件路径\n",
    "words = segmentor.segment('亚硝酸盐是一种化学物质')\n",
    "print('\\t'.join(words))\n",
    "segmentor.release()"
   ]
  },
  {
   "cell_type": "code",
   "execution_count": 33,
   "metadata": {
    "collapsed": false
   },
   "outputs": [
    {
     "name": "stdout",
     "output_type": "stream",
     "text": [
      "nh\tr\tr\tv\n"
     ]
    }
   ],
   "source": [
    "import os\n",
    "LTP_DATA_DIR='C:/Users/Administrator/Downloads/ltp_data_v3.4.0/'\n",
    "# ltp模型目录的路径\n",
    "pos_model_path = os.path.join(LTP_DATA_DIR, 'pos.model')  # 词性标注模型路径，模型名称为`pos.model`\n",
    "## 词性标注\n",
    "from pyltp import Postagger\n",
    "postagger = Postagger() # 初始化实例\n",
    "postagger.load(pos_model_path)  # 加载模型\n",
    "\n",
    "words = ['元芳', '你', '怎么', '看']  # 分词结果\n",
    "postags = postagger.postag(words)  # 词性标注\n",
    "\n",
    "print('\\t'.join(postags))\n",
    "postagger.release()  # 释放模型"
   ]
  },
  {
   "cell_type": "code",
   "execution_count": 37,
   "metadata": {
    "collapsed": false
   },
   "outputs": [
    {
     "name": "stdout",
     "output_type": "stream",
     "text": [
      "S-Nh\tO\tO\tO\n"
     ]
    }
   ],
   "source": [
    "import os\n",
    "LTP_DATA_DIR='C:/Users/Administrator/Downloads/ltp_data_v3.4.0/'  # ltp模型目录的路径\n",
    "ner_model_path = os.path.join(LTP_DATA_DIR, 'ner.model')  # 命名实体识别模型路径，模型名称为`pos.model`\n",
    "\n",
    "from pyltp import NamedEntityRecognizer\n",
    "recognizer = NamedEntityRecognizer() # 初始化实例\n",
    "recognizer.load(ner_model_path)  # 加载模型\n",
    "\n",
    "words = ['元芳', '你', '怎么', '看']\n",
    "postags = ['nh', 'r', 'r', 'v']\n",
    "netags = recognizer.recognize(words, postags)  # 命名实体识别\n",
    "\n",
    "print('\\t'.join(netags))\n",
    "recognizer.release()  # 释放模型"
   ]
  },
  {
   "cell_type": "code",
   "execution_count": 2,
   "metadata": {
    "collapsed": false
   },
   "outputs": [
    {
     "name": "stdout",
     "output_type": "stream",
     "text": [
      "4:SBV\t4:SBV\t4:ADV\t0:HED\n"
     ]
    }
   ],
   "source": [
    "## 句法分析\n",
    "import os  \n",
    "LTP_DATA_DIR='C:/Users/Administrator/Downloads/ltp_data_v3.4.0/'  # ltp模型目录的路径\n",
    "par_model_path = os.path.join(LTP_DATA_DIR, 'parser.model')  # 依存句法分析模型路径，模型名称为`parser.model`\n",
    "\n",
    "from pyltp import Parser\n",
    "parser = Parser() # 初始化实例\n",
    "parser.load(par_model_path)  # 加载模型\n",
    "\n",
    "words = ['元芳', '你', '怎么', '看']\n",
    "postags = ['nh', 'r', 'r', 'v']\n",
    "arcs = parser.parse(words, postags)  # 句法分析\n",
    "\n",
    "print(\"\\t\".join(\"%d:%s\" % (arc.head, arc.relation) for arc in arcs))\n",
    "parser.release()  # 释放模型"
   ]
  },
  {
   "cell_type": "code",
   "execution_count": 4,
   "metadata": {
    "collapsed": false
   },
   "outputs": [
    {
     "name": "stdout",
     "output_type": "stream",
     "text": [
      "3 A0:(1,1)ADV:(2,2)\n"
     ]
    }
   ],
   "source": [
    "import os\n",
    "LTP_DATA_DIR='C:/Users/Administrator/Downloads/ltp_data_v3.4.0/'  # ltp模型目录的路径\n",
    "\n",
    "srl_model_path = os.path.join(LTP_DATA_DIR,\"pisrl_win.model\")  # 语义角色标注模型目录路径，模型目录为`srl`。注意该模型路径是一个目录，而不是一个文件。\n",
    "\n",
    "from pyltp import SementicRoleLabeller\n",
    "labeller = SementicRoleLabeller() # 初始化实例\n",
    "labeller.load(srl_model_path)  # 加载模型\n",
    "\n",
    "words = ['元芳', '你', '怎么', '看']\n",
    "postags = ['nh', 'r', 'r', 'v']\n",
    "# arcs 使用依存句法分析的结果\n",
    "roles = labeller.label(words, postags, arcs)  # 语义角色标注\n",
    "\n",
    "# 打印结果\n",
    "for role in roles:\n",
    "    print (role.index, \"\".join(\n",
    "        [\"%s:(%d,%d)\" % (arg.name, arg.range.start, arg.range.end) for arg in role.arguments]))\n",
    "labeller.release()  # 释放模型"
   ]
  },
  {
   "cell_type": "code",
   "execution_count": null,
   "metadata": {
    "collapsed": false
   },
   "outputs": [],
   "source": [
    "\n"
   ]
  },
  {
   "cell_type": "code",
   "execution_count": null,
   "metadata": {
    "collapsed": true
   },
   "outputs": [],
   "source": []
  },
  {
   "cell_type": "code",
   "execution_count": null,
   "metadata": {
    "collapsed": true
   },
   "outputs": [],
   "source": []
  },
  {
   "cell_type": "code",
   "execution_count": null,
   "metadata": {
    "collapsed": true
   },
   "outputs": [],
   "source": []
  },
  {
   "cell_type": "code",
   "execution_count": null,
   "metadata": {
    "collapsed": true
   },
   "outputs": [],
   "source": []
  },
  {
   "cell_type": "code",
   "execution_count": 10,
   "metadata": {
    "collapsed": false
   },
   "outputs": [
    {
     "name": "stdout",
     "output_type": "stream",
     "text": [
      "中国\t进出口\t银行\t与\t中国银行\t加强\t合作\t。\n",
      "ns\tv\tn\tp\tni\tv\tv\twp\n",
      "B-Ni\tI-Ni\tE-Ni\tO\tS-Ni\tO\tO\tO\n",
      "\n",
      "\n",
      "3:ATT\t3:ATT\t6:SBV\t6:ADV\t4:POB\t0:HED\t6:VOB\t6:WP\n",
      "\n",
      "ATT(中国, 银行)\n",
      "ATT(进出口, 银行)\n",
      "SBV(银行, 加强)\n",
      "ADV(与, 加强)\n",
      "POB(中国银行, 与)\n",
      "HED(加强, Root)\n",
      "VOB(合作, 加强)\n",
      "WP(。, 加强)\n",
      "\n",
      "\n",
      "5 A0:(0,2)A1:(6,6)\n"
     ]
    }
   ],
   "source": [
    "import sys, os\n",
    "\n",
    "# ROOTDIR = os.path.join(os.path.dirname(__file__), os.pardir)\n",
    "# sys.path = [os.path.join(ROOTDIR, \"lib\")] + sys.path\n",
    "\n",
    "# Set your own model path\n",
    "MODELDIR='C:/Users/Administrator/Downloads/ltp_data_v3.4.0/'\n",
    "\n",
    "from pyltp import SentenceSplitter, Segmentor, Postagger, Parser, NamedEntityRecognizer, SementicRoleLabeller\n",
    "\n",
    "paragraph = '中国进出口银行与中国银行加强合作。中国进出口银行与中国银行加强合作！'\n",
    "# paragraph = '杜军平教授在四月七号参加了人工智能协会第五次大会'\n",
    "sentence = SentenceSplitter.split(paragraph)[0]\n",
    "\n",
    "segmentor = Segmentor()\n",
    "segmentor.load(os.path.join(MODELDIR, \"cws.model\"))\n",
    "words = segmentor.segment(sentence)\n",
    "print(\"\\t\".join(words))\n",
    "\n",
    "postagger = Postagger()\n",
    "postagger.load(os.path.join(MODELDIR, \"pos.model\"))\n",
    "postags = postagger.postag(words)\n",
    "# list-of-string parameter is support in 0.1.5\n",
    "# postags = postagger.postag([\"中国\",\"进出口\",\"银行\",\"与\",\"中国银行\",\"加强\",\"合作\"])\n",
    "print(\"\\t\".join(postags))\n",
    "\n",
    "recognizer = NamedEntityRecognizer()\n",
    "recognizer.load(os.path.join(MODELDIR, \"ner.model\"))\n",
    "netags = recognizer.recognize(words, postags)\n",
    "print(\"\\t\".join(netags))\n",
    "print()\n",
    "print()\n",
    "parser = Parser()\n",
    "parser.load(os.path.join(MODELDIR, \"parser.model\"))\n",
    "arcs = parser.parse(words, postags)\n",
    "print(\"\\t\".join(\"%d:%s\" % (arc.head, arc.relation) for arc in arcs))\n",
    "print()\n",
    "rely_id = [arc.head for arc in arcs]    # 提取依存父节点id\n",
    "relation = [arc.relation for arc in arcs]   # 提取依存关系\n",
    "heads = ['Root' if id == 0 else words[id-1] for id in rely_id]  # 匹配依存父节点词语\n",
    "\n",
    "for i in range(len(words)):\n",
    "    print (relation[i] + '(' + words[i] + ', ' + heads[i] + ')')\n",
    "print()\n",
    "print()\n",
    "labeller = SementicRoleLabeller()\n",
    "labeller.load(os.path.join(MODELDIR, \"pisrl_win.model\"))\n",
    "roles = labeller.label(words, postags, arcs)\n",
    "\n",
    "for role in roles:\n",
    "    print(role.index, \"\".join(\n",
    "            [\"%s:(%d,%d)\" % (arg.name, arg.range.start, arg.range.end) for arg in role.arguments]))\n",
    "\n",
    "segmentor.release()\n",
    "postagger.release()\n",
    "parser.release()\n",
    "recognizer.release()\n",
    "labeller.release()"
   ]
  },
  {
   "cell_type": "code",
   "execution_count": null,
   "metadata": {
    "collapsed": true
   },
   "outputs": [],
   "source": []
  },
  {
   "cell_type": "code",
   "execution_count": null,
   "metadata": {
    "collapsed": true
   },
   "outputs": [],
   "source": []
  },
  {
   "cell_type": "code",
   "execution_count": null,
   "metadata": {
    "collapsed": true
   },
   "outputs": [],
   "source": []
  },
  {
   "cell_type": "code",
   "execution_count": null,
   "metadata": {
    "collapsed": true
   },
   "outputs": [],
   "source": []
  },
  {
   "cell_type": "code",
   "execution_count": null,
   "metadata": {
    "collapsed": true
   },
   "outputs": [],
   "source": []
  },
  {
   "cell_type": "code",
   "execution_count": null,
   "metadata": {
    "collapsed": true
   },
   "outputs": [],
   "source": []
  },
  {
   "cell_type": "code",
   "execution_count": null,
   "metadata": {
    "collapsed": true
   },
   "outputs": [],
   "source": []
  },
  {
   "cell_type": "code",
   "execution_count": null,
   "metadata": {
    "collapsed": true
   },
   "outputs": [],
   "source": []
  },
  {
   "cell_type": "code",
   "execution_count": null,
   "metadata": {
    "collapsed": true
   },
   "outputs": [],
   "source": []
  },
  {
   "cell_type": "code",
   "execution_count": null,
   "metadata": {
    "collapsed": true
   },
   "outputs": [],
   "source": []
  },
  {
   "cell_type": "code",
   "execution_count": null,
   "metadata": {
    "collapsed": true
   },
   "outputs": [],
   "source": []
  },
  {
   "cell_type": "code",
   "execution_count": null,
   "metadata": {
    "collapsed": true
   },
   "outputs": [],
   "source": []
  },
  {
   "cell_type": "code",
   "execution_count": null,
   "metadata": {
    "collapsed": true
   },
   "outputs": [],
   "source": []
  }
 ],
 "metadata": {
  "anaconda-cloud": {},
  "kernelspec": {
   "display_name": "Python [conda root]",
   "language": "python",
   "name": "conda-root-py"
  },
  "language_info": {
   "codemirror_mode": {
    "name": "ipython",
    "version": 3
   },
   "file_extension": ".py",
   "mimetype": "text/x-python",
   "name": "python",
   "nbconvert_exporter": "python",
   "pygments_lexer": "ipython3",
   "version": "3.5.2"
  }
 },
 "nbformat": 4,
 "nbformat_minor": 1
}
